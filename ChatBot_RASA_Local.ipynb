{
 "cells": [
  {
   "cell_type": "markdown",
   "metadata": {},
   "source": [
    "# Chatbot in local instance Using RASA"
   ]
  },
  {
   "cell_type": "markdown",
   "metadata": {},
   "source": [
    "Below codes are referenced from RASA documentation"
   ]
  },
  {
   "cell_type": "raw",
   "metadata": {},
   "source": [
    "Before we build and deploy chatbot, we need to consider few things.\n",
    "\n",
    "First, strategize according to purpose. Start building a plan based on why you want to deploy the bot. \n",
    " - What problem are you solving? \n",
    " - How many agents solve it currently? \n",
    " - How much time do they take?\n",
    " - If there is a bot deployed, how much time would be freed up? \n",
    " - Will the bot make the customer journey easy or complex? \n",
    "\n",
    "Depending on the use case for which the bot is deployed, and the volumes that the business gets for it,\n",
    "there is a potential for cost saving.\n"
   ]
  },
  {
   "cell_type": "raw",
   "metadata": {},
   "source": [
    "\n",
    "\n",
    "'''\n",
    "We as a company provide below solution across industries we support,\n",
    "Solution is what customer looking for. Below are intents for solutions\n",
    "\n",
    "Customer Engagement          - Cust_Eng\n",
    "Business Process Optmizaton  - BPO\n",
    "Digital Transformation       - DigiT\n",
    "\n",
    "let's say for building model purpose we store the data in json format which has text,intents and entity.\n",
    "from given user input message(text) we to need identify what they are looking for(intent) \n",
    "and their location(entity) if specified\n",
    "\n",
    "'''"
   ]
  },
  {
   "cell_type": "raw",
   "metadata": {},
   "source": [
    "To train and build a model we need below files\n",
    "\n",
    "NLU Training file (nlu_train.md)\n",
    "- Training file\n",
    "\n",
    "config file (nlu_config.yml)\n",
    "- It defines how the NLU model will be trained and how the features from the text inputs will be extracted\n",
    "\n",
    "Domain file (domain.yml)\n",
    "- what user inputs it should expect to get, what actions it should be able to predict, \n",
    "  how to respond and what information to store\n",
    "\n",
    "Stories file (stories.md)\n",
    "- Teach your chatbot to respond to your messages\n"
   ]
  },
  {
   "cell_type": "markdown",
   "metadata": {},
   "source": [
    "For simplicity and understandable purpose just given single value"
   ]
  },
  {
   "cell_type": "code",
   "execution_count": null,
   "metadata": {},
   "outputs": [],
   "source": [
    "domain.yml\n",
    "\n",
    "intents:\n",
    "\n",
    "# place your intents\n",
    " - greet\n",
    " - DigiT_turnaround_time\n",
    " - bye\n",
    "\n",
    "entities:\n",
    "# place your entities\n",
    " - month\n",
    "\n",
    "templates:\n",
    "# sample replies\n",
    " utter_greet:\n",
    "  - \"Hey, how can I help you?\"\n",
    " utter_answer_time:\n",
    "  - \"unable to decide time in beforehand, usually we provide solution as soon as possible.\"\n",
    " utter_bye:\n",
    "  - \"Goodbye\"\n",
    "\n",
    "actions:\n",
    "# templates (as they are reply actions),\n",
    "# also custom actions if any\n",
    " - utter_greet\n",
    " - utter_answer_time\n",
    "\n"
   ]
  },
  {
   "cell_type": "code",
   "execution_count": null,
   "metadata": {},
   "outputs": [],
   "source": [
    "stories.md\n",
    "\n",
    "## story1              \n",
    "* greet              \n",
    "  - utter_greet\n",
    "* DigiT_turnaround_time\n",
    "  - utter_answer_time\n",
    "* bye               \n",
    "  - utter_bye\n"
   ]
  },
  {
   "cell_type": "code",
   "execution_count": null,
   "metadata": {},
   "outputs": [],
   "source": [
    "nlu_train.md\n",
    "'''\n",
    "Let's consider we have our training data stored as json format, below is the single value from the data\n",
    "\n",
    "{\n",
    "\"text\": \"I would like to digitalize my business based in India\",\n",
    "\"intent\": \"DigiT\",\n",
    "\"entities\": [\n",
    "{\n",
    "\"start\": 31,\n",
    "\"end\": 36,\n",
    "\"value\": \"India\",\n",
    "\"entity\": \"location\"\n",
    "}\n",
    "]\n",
    "}\n",
    "\n",
    "'''"
   ]
  },
  {
   "cell_type": "code",
   "execution_count": null,
   "metadata": {},
   "outputs": [],
   "source": [
    "\n",
    "# Import the necessary packages from RASA\n",
    "\n",
    "from rasa_nlu.training_data import load_data\n",
    "from rasa_nlu.config import RasaNLUConfig\n",
    "from rasa_nlu.model import Trainer\n",
    "from rasa_nlu import config\n",
    "from rasa_nlu.model import Metadata, Interpreter\n",
    "\n",
    "\n",
    "def train(data, config_file, model_dir):\n",
    "    '''\n",
    "    Functions to train model which takes three parameters \n",
    "    Data file, configuration file and directory where model gets saved\n",
    "    '''\n",
    "    train_data = load_data(data)                  # load the data using load_data()\n",
    "    trainer = Trainer(RasaNLUConfig(config_file)) # Initialize Trainer class using RasaNlUconfig on configuration file\n",
    "    trainer.train(train_data)                     # train the method on trainer with loaded data as parameter\n",
    "    \n",
    "    # Initialize model_directory \n",
    "    model_directory = trainer.persist(model_dir, fixed_model_name = 'cxbot')\n",
    "\n",
    "# Training the model\n",
    "# pass the training file, configuration file and the path to be stored\n",
    "\n",
    "train('data/nlu_train.md', 'nlu_config.yml', 'models/nlu')"
   ]
  },
  {
   "cell_type": "code",
   "execution_count": null,
   "metadata": {},
   "outputs": [],
   "source": [
    "# Test the model\n",
    "\n",
    "# Initialize and load the model using RASA Interpreter object\n",
    "\n",
    "interpreter = Interpreter.load('specify the path')\n",
    "\n",
    "def test(message):\n",
    "    print(interpreter.parse(message))\n",
    "    \n",
    "test('I would like to digitalize my business based in india')"
   ]
  },
  {
   "cell_type": "raw",
   "metadata": {},
   "source": [
    "Output gives predicted intent and it's confidence and it's entity list\n",
    "Example:\n",
    "{'intent': {'name': 'DigiT', 'confidence': 0.9828492334410716}, 'entities': [{'start': 17, 'end': 24, 'value': 'india', 'entity': 'location', 'confidence': 0.9202208121139594, 'extractor': 'ner_crf'}]"
   ]
  },
  {
   "cell_type": "markdown",
   "metadata": {},
   "source": [
    "# RASA Package Information"
   ]
  },
  {
   "cell_type": "raw",
   "metadata": {},
   "source": [
    "\n",
    "rasa_core.policies -  decides which action to take at every step in the conversation\n",
    "MemoizationPolicy  -  just memorizes the conversations in your training data.It predicts the next action \n",
    "                      with confidence 1.0 if this exact conversation exists in the training data, \n",
    "                      otherwise it predicts None with confidence 0.0\n",
    "KerasPolicy        -  uses a neural network implemented in Keras to select the next action\n",
    "epochs             -  sets the number of times the algorithm will see training data,\n",
    "                      where one epoch = one forward pass and one backward pass of all the training examples\n",
    "max_history        -  This controls how much dialogue history the model looks at to decide which action to take next\n",
    "\n"
   ]
  },
  {
   "cell_type": "code",
   "execution_count": null,
   "metadata": {},
   "outputs": [],
   "source": [
    "# Train a dialog mode\n",
    "# importing the necessary packages from RASA\n",
    "\n",
    "\n",
    "import logging\n",
    "from rasa_core import training\n",
    "from rasa_core.actions import Action\n",
    "from rasa_core.agent import Agent\n",
    "from rasa_core.domain import Domain\n",
    "from rasa_core.policies.keras_policy import KerasPolicy\n",
    "from rasa_core.policies.memoization import MemoizationPolicy\n",
    "from rasa_core.featurizers import MaxHistoryTrackerFeaturizer, BinarySingleStateFeaturizer\n",
    "from rasa_core.channels.console import ConsoleInputChannel\n",
    "from rasa_core.interpreter import RasaNLUInterpreter\n",
    "\n",
    "# Function\n",
    "\n",
    "def train_dialog(dialog_training_data_file, domain_file, path_to_model = 'models/dialogue'):\n",
    "    logging.basicConfig(level='INFO')\n",
    "    agent = Agent(domain_file,\n",
    "              policies=[MemoizationPolicy(max_history=1)])\n",
    "    training_data = agent.load_data(dialog_training_data_file)\n",
    "    agent.train(\n",
    "        training_data,\n",
    "        augmentation_factor=50,\n",
    "        epochs=200,\n",
    "        batch_size=10,\n",
    "        validation_split=0.2)\n",
    "    agent.persist(path_to_model)\n",
    "\n",
    "#train the dialog model\n",
    "train_dialog('data/stories.md', 'domain.yml')"
   ]
  },
  {
   "cell_type": "code",
   "execution_count": null,
   "metadata": {},
   "outputs": [],
   "source": []
  },
  {
   "cell_type": "code",
   "execution_count": null,
   "metadata": {},
   "outputs": [],
   "source": [
    "# Loading Agent\n",
    "\n",
    "rasaNLU = RasaNLUInterpreter(\"models/nlu/default/chat\")\n",
    "agent = Agent.load(\"models/dialogue\", interpreter= rasaNLU)\n"
   ]
  },
  {
   "cell_type": "markdown",
   "metadata": {},
   "source": [
    "# Below are the expected output"
   ]
  },
  {
   "cell_type": "code",
   "execution_count": null,
   "metadata": {},
   "outputs": [],
   "source": [
    "agent.handle_message('Hi')"
   ]
  },
  {
   "cell_type": "markdown",
   "metadata": {},
   "source": [
    "'Hey'"
   ]
  },
  {
   "cell_type": "code",
   "execution_count": null,
   "metadata": {},
   "outputs": [],
   "source": [
    "agent.handle_message('How many months will it take to complete task')"
   ]
  },
  {
   "cell_type": "markdown",
   "metadata": {},
   "source": [
    "'unable to decide time in beforehand, usually we provide solution as soon as possible.'\n"
   ]
  },
  {
   "cell_type": "code",
   "execution_count": null,
   "metadata": {},
   "outputs": [],
   "source": []
  },
  {
   "cell_type": "code",
   "execution_count": null,
   "metadata": {},
   "outputs": [],
   "source": []
  }
 ],
 "metadata": {
  "kernelspec": {
   "display_name": "Python 3",
   "language": "python",
   "name": "python3"
  },
  "language_info": {
   "codemirror_mode": {
    "name": "ipython",
    "version": 3
   },
   "file_extension": ".py",
   "mimetype": "text/x-python",
   "name": "python",
   "nbconvert_exporter": "python",
   "pygments_lexer": "ipython3",
   "version": "3.5.5"
  }
 },
 "nbformat": 4,
 "nbformat_minor": 2
}
